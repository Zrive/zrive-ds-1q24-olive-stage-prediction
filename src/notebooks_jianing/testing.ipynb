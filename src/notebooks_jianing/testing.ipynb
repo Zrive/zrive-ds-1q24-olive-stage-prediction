{
 "cells": [
  {
   "cell_type": "code",
   "execution_count": 1,
   "metadata": {},
   "outputs": [],
   "source": [
    "import pandas as pd\n",
    "import matplotlib.pyplot as plt\n",
    "import numpy as np\n",
    "import seaborn as sns\n",
    "\n",
    "plt.style.use(\"ggplot\")\n",
    "pd.pandas.set_option(\"display.max_columns\", None)\n",
    "from load_meteo import *"
   ]
  },
  {
   "cell_type": "code",
   "execution_count": 2,
   "metadata": {},
   "outputs": [],
   "source": [
    "from load import filter_parcelas_by_dates"
   ]
  },
  {
   "cell_type": "code",
   "execution_count": 3,
   "metadata": {},
   "outputs": [
    {
     "name": "stderr",
     "output_type": "stream",
     "text": [
      "INFO:root:Loading clean meteo dataset\n",
      "INFO:root:Loading dataset from /Users/jianingxu/Documents/repositories/courses/zrive-ds-1q24-olive-stage-prediction/src/../data/meteo_parcelas.parquet\n",
      "INFO:root:Executing clean_meteo_data\n",
      "INFO:root:Initial dataset shape: (31892562, 6)\n",
      "INFO:root:Executing drop_nans_for_indice ['SSM']\n",
      "INFO:root:Dataset shape after operation: (25499429, 6)\n",
      "INFO:root:Executing combine_indices\n",
      "INFO:root:Dataset shape after operation: (25499429, 6)\n",
      "INFO:root:Executing drop_zeros_for_indices ['NDVI', 'NDWI', 'SAVI', 'GNDVI', 'SIPI']\n",
      "INFO:root:Dataset shape after operation: (12380807, 6)\n",
      "INFO:root:Executing normalize_indice_values FAPAR, dividing by 255.0\n",
      "INFO:root:Dataset shape after operation: (12380807, 6)\n"
     ]
    }
   ],
   "source": [
    "data = load_clean_meteo_data()"
   ]
  },
  {
   "cell_type": "code",
   "execution_count": null,
   "metadata": {},
   "outputs": [],
   "source": [
    "START_DATE = pd.Timestamp(\"2010-01-01\")\n",
    "END_DATE = pd.Timestamp(\"2020-01-01\")\n",
    "# END_DATE = pd.Timestamp(\"2022-12-31\")\n",
    "filtered = filter_parcelas_by_dates(data.groupby(\"indice\").get_group(\"FAPAR\"), start_date=START_DATE, end_date=END_DATE)\n",
    "\n",
    "\n",
    "sns.boxplot(filtered, x=\"valor\")\n",
    "# filtered[\"valor\"]"
   ]
  },
  {
   "cell_type": "code",
   "execution_count": null,
   "metadata": {},
   "outputs": [],
   "source": [
    "for indice, group in data.groupby(\"indice\"):\n",
    "    group = group[\"valor\"]\n",
    "    print(indice)\n",
    "    nans = group.isna().sum()\n",
    "    rows = len(group)\n",
    "    print(nans, rows)\n",
    "    print(nans/rows)"
   ]
  },
  {
   "cell_type": "code",
   "execution_count": null,
   "metadata": {},
   "outputs": [],
   "source": [
    "data.head()"
   ]
  },
  {
   "cell_type": "code",
   "execution_count": null,
   "metadata": {},
   "outputs": [],
   "source": [
    "grouped_data = data.groupby([\"codparcela\", \"indice\"], axis=0)\n"
   ]
  },
  {
   "cell_type": "code",
   "execution_count": null,
   "metadata": {},
   "outputs": [],
   "source": [
    "INDICES = [\"SSM\", \"NDVI\", \"NDWI\", \"GNDVI\", \"SAVI\", \"SIPI\", \"FAPAR\", \"LST\"]\n",
    "codparcela = \"023-00109-00-00\"\n",
    "START_DATE = pd.Timestamp(\"2020-01-01\")\n",
    "END_DATE = pd.Timestamp(\"2020-06-30\")\n",
    "\n",
    "for indice in INDICES:\n",
    "    single_codparcela_data = grouped_data.get_group((codparcela, indice))\n",
    "    df_single = filter_parcelas_by_dates(\n",
    "        single_codparcela_data, start_date=START_DATE, end_date=END_DATE\n",
    "    )\n",
    "    print(df_single.head(20))\n",
    "    # plt.figure(figsize=(20, 6))\n",
    "\n",
    "    # # Scatter plot\n",
    "    # sns.scatterplot(data=df_single, x=\"fecha\", y=\"valor\")\n",
    "    # plt.title(f\"Scatter Plot for indice {indice} for parcela {codparcela}\")\n",
    "    # plt.xlabel(\"Fecha\")\n",
    "    # plt.ylabel(\"Valor\")\n",
    "\n",
    "    # plt.tight_layout()  # Adjust layout to prevent overlapping plots\n",
    "    # plt.show()"
   ]
  },
  {
   "cell_type": "code",
   "execution_count": null,
   "metadata": {},
   "outputs": [],
   "source": []
  }
 ],
 "metadata": {
  "kernelspec": {
   "display_name": "zrive-ds-z0yr2URu-py3.11",
   "language": "python",
   "name": "python3"
  },
  "language_info": {
   "codemirror_mode": {
    "name": "ipython",
    "version": 3
   },
   "file_extension": ".py",
   "mimetype": "text/x-python",
   "name": "python",
   "nbconvert_exporter": "python",
   "pygments_lexer": "ipython3",
   "version": "3.11.0"
  }
 },
 "nbformat": 4,
 "nbformat_minor": 2
}
