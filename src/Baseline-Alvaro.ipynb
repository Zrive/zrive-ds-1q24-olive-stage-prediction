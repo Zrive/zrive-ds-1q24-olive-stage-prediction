{
 "cells": [
  {
   "cell_type": "markdown",
   "metadata": {},
   "source": [
    "# Baseline Komorebi"
   ]
  },
  {
   "cell_type": "code",
   "execution_count": 167,
   "metadata": {},
   "outputs": [],
   "source": [
    "import seaborn as sns\n",
    "import matplotlib.pyplot as plt\n",
    "import pandas as pd\n",
    "import numpy as np\n",
    "from sklearn.metrics import accuracy_score\n",
    "from sklearn.metrics import confusion_matrix, accuracy_score"
   ]
  },
  {
   "cell_type": "code",
   "execution_count": 168,
   "metadata": {},
   "outputs": [],
   "source": [
    "root_folder = \"/Users/alvaroleal/Desktop/DS/komorebi\"\n",
    "\n",
    "df= pd.read_parquet(root_folder + '/muestreos_parcelas_2023.parquet')"
   ]
  },
  {
   "cell_type": "markdown",
   "metadata": {},
   "source": [
    "### Preparamos el dataset\n",
    " - Limpiamos los datos con los resultados del EDAs\n",
    " - Unificamos los estados fenológicos en una sola columna\n",
    " - Creamos el y"
   ]
  },
  {
   "cell_type": "code",
   "execution_count": 169,
   "metadata": {},
   "outputs": [],
   "source": [
    "def clean_df(df):\n",
    "    \"\"\"\n",
    "    Función para realizar todo el lipiado de datos, en este momento elimina las filas del DataFrame donde el año es 2005, 2021 o 2022.\n",
    "\n",
    "    Args:\n",
    "    df(pd.DataFrame): DataFrame original.\n",
    "\n",
    "    Returns:\n",
    "    pd.DataFrame: DataFrame limpiado.\n",
    "    \"\"\"\n",
    "    # Añadimos los resultados del EDAs\n",
    "    df = df.drop('generated_muestreos', axis=1)\n",
    "    cols = ['fecha'] + [col for col in df if col != 'fecha']\n",
    "    df = df[cols]\n",
    "    df['fecha'] = df['fecha'].astype('datetime64[ns]')\n",
    "    df = df[~df['fecha'].dt.year.isin([2003, 2005])]\n",
    "    \n",
    "    return df"
   ]
  },
  {
   "cell_type": "code",
   "execution_count": 170,
   "metadata": {},
   "outputs": [],
   "source": [
    "def unificar_estados(df: pd.DataFrame) -> pd.DataFrame:\n",
    "    columnas_estados = [f'estado_fenologico_{i}' for i in range(14, 0, -1)]\n",
    "    \n",
    "    df['estado_fenologico_unificado'] = df.apply(\n",
    "        lambda row: next((col.split('_')[-1] for col in columnas_estados if row[col] == 2), pd.NA), axis=1)\n",
    "    df['estado_fenologico_unificado'] = pd.to_numeric(df['estado_fenologico_unificado'], errors='coerce')\n",
    "    \n",
    "    # Columnas simplificadas para calcular el baseline\n",
    "    df= df[['codparcela', 'fecha', 'estado_fenologico_unificado']]\n",
    "    \n",
    "    return df\n"
   ]
  },
  {
   "cell_type": "code",
   "execution_count": 171,
   "metadata": {},
   "outputs": [],
   "source": [
    "def generate_y(df: pd.DataFrame, window_size: int = 14, window_tolerance: int = 2) -> pd.DataFrame:\n",
    "    # Crear una copia para trabajar sin modificar el DataFrame original\n",
    "    df_copy = df.copy()\n",
    "\n",
    "    # Generar fecha futura para buscar el estado fenológico en el futuro\n",
    "    df_copy['fecha_futuro'] = df_copy['fecha'] + pd.Timedelta(days=window_size)\n",
    "\n",
    "    # Realizar una fusión asof para encontrar correspondencias dentro de una ventana de tiempo específica\n",
    "    df_with_y = pd.merge_asof(\n",
    "        df_copy.sort_values('fecha'), df_copy.sort_values('fecha'), \n",
    "        by='codparcela', left_on='fecha_futuro', right_on='fecha', \n",
    "        suffixes=('', '_future'), direction='nearest', tolerance=pd.Timedelta(days=window_tolerance)\n",
    "    )\n",
    "\n",
    "    # Generar la columna objetivo - Número de estados fenológicos que pasaron en el tamaño de ventana elegido\n",
    "    df_with_y['y'] = df_with_y['estado_fenologico_unificado_future'] - df_with_y['estado_fenologico_unificado']\n",
    "\n",
    "    # Eliminar todas las filas con valor nulo en la columna objetivo\n",
    "    df_with_y = df_with_y[df_with_y['y'].notnull()]\n",
    "\n",
    "    # Establecer a 0 cuando la columna objetivo sea negativa\n",
    "    df_with_y.loc[df_with_y['y'] < 0, 'y'] = 0\n",
    "\n",
    "    df_with_y=  df_with_y[['codparcela', 'fecha', 'estado_fenologico_unificado','y']]\n",
    "     \n",
    "\n",
    "    return df_with_y"
   ]
  },
  {
   "cell_type": "code",
   "execution_count": 172,
   "metadata": {},
   "outputs": [
    {
     "data": {
      "text/html": [
       "<div>\n",
       "<style scoped>\n",
       "    .dataframe tbody tr th:only-of-type {\n",
       "        vertical-align: middle;\n",
       "    }\n",
       "\n",
       "    .dataframe tbody tr th {\n",
       "        vertical-align: top;\n",
       "    }\n",
       "\n",
       "    .dataframe thead th {\n",
       "        text-align: right;\n",
       "    }\n",
       "</style>\n",
       "<table border=\"1\" class=\"dataframe\">\n",
       "  <thead>\n",
       "    <tr style=\"text-align: right;\">\n",
       "      <th></th>\n",
       "      <th>codparcela</th>\n",
       "      <th>fecha</th>\n",
       "      <th>estado_fenologico_unificado</th>\n",
       "      <th>y</th>\n",
       "    </tr>\n",
       "  </thead>\n",
       "  <tbody>\n",
       "    <tr>\n",
       "      <th>15</th>\n",
       "      <td>001-00004-00-00</td>\n",
       "      <td>2006-03-01</td>\n",
       "      <td>2.0</td>\n",
       "      <td>0.0</td>\n",
       "    </tr>\n",
       "    <tr>\n",
       "      <th>22</th>\n",
       "      <td>033-00381-00-00</td>\n",
       "      <td>2006-03-06</td>\n",
       "      <td>1.0</td>\n",
       "      <td>0.0</td>\n",
       "    </tr>\n",
       "    <tr>\n",
       "      <th>25</th>\n",
       "      <td>005-00042-00-00</td>\n",
       "      <td>2006-03-06</td>\n",
       "      <td>1.0</td>\n",
       "      <td>1.0</td>\n",
       "    </tr>\n",
       "    <tr>\n",
       "      <th>28</th>\n",
       "      <td>030-00675-00-00</td>\n",
       "      <td>2006-03-06</td>\n",
       "      <td>1.0</td>\n",
       "      <td>0.0</td>\n",
       "    </tr>\n",
       "    <tr>\n",
       "      <th>31</th>\n",
       "      <td>022-00304-00-00</td>\n",
       "      <td>2006-03-06</td>\n",
       "      <td>1.0</td>\n",
       "      <td>0.0</td>\n",
       "    </tr>\n",
       "    <tr>\n",
       "      <th>...</th>\n",
       "      <td>...</td>\n",
       "      <td>...</td>\n",
       "      <td>...</td>\n",
       "      <td>...</td>\n",
       "    </tr>\n",
       "    <tr>\n",
       "      <th>677070</th>\n",
       "      <td>017-00008-01-01</td>\n",
       "      <td>2023-09-21</td>\n",
       "      <td>10.0</td>\n",
       "      <td>1.0</td>\n",
       "    </tr>\n",
       "    <tr>\n",
       "      <th>677071</th>\n",
       "      <td>009-00006-02</td>\n",
       "      <td>2023-09-21</td>\n",
       "      <td>10.0</td>\n",
       "      <td>1.0</td>\n",
       "    </tr>\n",
       "    <tr>\n",
       "      <th>677073</th>\n",
       "      <td>011-00060-01-01</td>\n",
       "      <td>2023-09-22</td>\n",
       "      <td>10.0</td>\n",
       "      <td>1.0</td>\n",
       "    </tr>\n",
       "    <tr>\n",
       "      <th>677075</th>\n",
       "      <td>011-00088-01-01</td>\n",
       "      <td>2023-09-22</td>\n",
       "      <td>10.0</td>\n",
       "      <td>0.0</td>\n",
       "    </tr>\n",
       "    <tr>\n",
       "      <th>677171</th>\n",
       "      <td>048-00002-00-00</td>\n",
       "      <td>2023-09-25</td>\n",
       "      <td>10.0</td>\n",
       "      <td>0.0</td>\n",
       "    </tr>\n",
       "  </tbody>\n",
       "</table>\n",
       "<p>541942 rows × 4 columns</p>\n",
       "</div>"
      ],
      "text/plain": [
       "             codparcela      fecha  estado_fenologico_unificado    y\n",
       "15      001-00004-00-00 2006-03-01                          2.0  0.0\n",
       "22      033-00381-00-00 2006-03-06                          1.0  0.0\n",
       "25      005-00042-00-00 2006-03-06                          1.0  1.0\n",
       "28      030-00675-00-00 2006-03-06                          1.0  0.0\n",
       "31      022-00304-00-00 2006-03-06                          1.0  0.0\n",
       "...                 ...        ...                          ...  ...\n",
       "677070  017-00008-01-01 2023-09-21                         10.0  1.0\n",
       "677071     009-00006-02 2023-09-21                         10.0  1.0\n",
       "677073  011-00060-01-01 2023-09-22                         10.0  1.0\n",
       "677075  011-00088-01-01 2023-09-22                         10.0  0.0\n",
       "677171  048-00002-00-00 2023-09-25                         10.0  0.0\n",
       "\n",
       "[541942 rows x 4 columns]"
      ]
     },
     "execution_count": 172,
     "metadata": {},
     "output_type": "execute_result"
    }
   ],
   "source": [
    "df= clean_df(df)\n",
    "df= unificar_estados(df)\n",
    "df= generate_y(df)\n",
    "df"
   ]
  },
  {
   "cell_type": "markdown",
   "metadata": {},
   "source": [
    "## Baseline predict:\n",
    "- Train/Test Split: Dividimos nuestro dataset por cosechas utilizando 2018 como el punto de inversión.\n",
    "- Calculamos la media ponderada agrupando por año y estado fenológico, convertimos ese dataframe a un diccionario el cual luego usamos para mapear el conjunto de test y realizar las predicciones.\n",
    "- Redondeamos nuestras predicciones para poder evaluar el modelo.\n",
    "- Utilizamos accuracy como métrica de evaluación del modelo obteniendo un 76% de aciertos."
   ]
  },
  {
   "cell_type": "code",
   "execution_count": 173,
   "metadata": {},
   "outputs": [],
   "source": [
    "# Dividimos nuestras muestras por años - Tenemos que ver si incluimos también un set de validación\n",
    "df['year'] = df['fecha'].dt.year\n",
    "\n",
    "train = df[df['year'] <= 2021].copy()\n",
    "test = df[df['year'] > 2021].copy()"
   ]
  },
  {
   "cell_type": "code",
   "execution_count": 174,
   "metadata": {},
   "outputs": [],
   "source": [
    "max_year = train['year'].max()\n",
    "train['weight'] = train['year'].apply(lambda x: 0.1 ** (max_year - x))\n",
    "\n",
    "# Agrupamos por estado fenológico y año, y calcular la media ponderada\n",
    "grouped = train.groupby(['estado_fenologico_unificado', 'year'])\n",
    "weighted_means = grouped.apply(lambda x: (x['y'] * x['weight']).sum() / x['weight'].sum()).reset_index()\n",
    "weighted_means.rename(columns={0: 'weighted_mean'}, inplace=True)\n",
    "\n",
    "# Convertimos este DataFrame en un diccionario donde la clave es el estado y el valor es la media ponderada más reciente\n",
    "mapeo_referencia = weighted_means.sort_values('year', ascending=False).drop_duplicates('estado_fenologico_unificado').set_index('estado_fenologico_unificado')['weighted_mean'].to_dict()\n",
    "\n",
    "# Aplicamos el mapeo de referencia al conjunto de test para obtener las predicciones\n",
    "test['y_pred'] = test['estado_fenologico_unificado'].map(mapeo_referencia)\n",
    "\n",
    "# Redondeamos las predicciones ya que la métrica de precisión requiere valores discretos\n",
    "test['y_pred_rounded'] = test['y_pred'].round()"
   ]
  },
  {
   "cell_type": "code",
   "execution_count": 175,
   "metadata": {},
   "outputs": [
    {
     "name": "stdout",
     "output_type": "stream",
     "text": [
      "Baseline Model Accuracy: 0.6643918347626525\n"
     ]
    }
   ],
   "source": [
    "# Eliminamos filas con NaN en 'y' antes de calcular la precisión.\n",
    "mask = test['y'].notna()\n",
    "test_filtered = test[mask]\n",
    "\n",
    "# Ahora, calculamos la precisión solo en las filas sin NaN.\n",
    "accuracy = accuracy_score(test_filtered['y'], test_filtered['y_pred_rounded'])\n",
    "print(f\"Baseline Model Accuracy: {accuracy}\")"
   ]
  },
  {
   "cell_type": "code",
   "execution_count": 176,
   "metadata": {},
   "outputs": [
    {
     "data": {
      "image/png": "[encoded data removed]",
      "text/plain": [
       "<Figure size 1000x500 with 1 Axes>"
      ]
     },
     "metadata": {},
     "output_type": "display_data"
    }
   ],
   "source": [
    "cm = confusion_matrix(test_filtered['y'], test_filtered['y_pred_rounded'])\n",
    "\n",
    "accuracy = accuracy_score(test_filtered['y'], test_filtered['y_pred_rounded'])\n",
    "\n",
    "plt.figure(figsize=(10, 5))  \n",
    "sns.heatmap(cm, annot=True, fmt='d', cmap='Blues', cbar=False, xticklabels=True, yticklabels=True) \n",
    "\n",
    "plt.title(f'Matriz de Confusión - Precisión: {accuracy:.2f}')\n",
    "plt.xlabel('Predicciones')\n",
    "plt.ylabel('Valores Reales')\n",
    "\n",
    "unique_classes = sorted(test_filtered['y'].unique())\n",
    "plt.xticks(ticks=range(len(unique_classes)), labels=unique_classes, rotation=45) \n",
    "plt.yticks(ticks=range(len(unique_classes)), labels=unique_classes, rotation=0)\n",
    "\n",
    "plt.show()"
   ]
  },
  {
   "cell_type": "markdown",
   "metadata": {},
   "source": [
    "## Conclusiones:\n",
    "\n",
    "Acercamiento muy sencillo a lo que podría suponer un punto de partida para tratar de hacer modelos más complejos, cual feedback es bienvenido :)\n",
    "\n",
    "*Cálculo del Baseline:*\n",
    "\n",
    "- Calculamos un modelo muy sencillo definiendo el y como elnúmero de estados fenológicos que había pasado una muestra con respecto a su instancia anterior. Se corrigieron los avances fenológicos negativos resultantes de errores en el muestreo y se excluyeron las instancias iniciales y finales de cada año para evitar inconsistencias entre diferentes cosechas.\n",
    "\n",
    "*Predicción del Baseline:*\n",
    "\n",
    "- Implementamos una división del dataset por cosechas, utilizando el año 2018 como punto de corte. Esto permitió que las fases de prueba y entrenamiento reflejen las condiciones más actuales sin mezclar datos de cosechas anteriores.\n",
    "Se empleó una media ponderada para cada combinación de año y estado fenológico, convirtiendo luego este dataframe en un diccionario que fue utilizado para mapear y realizar predicciones en el conjunto de test. Nota: Podemos probar con otros criterios estadísticos con la mediana para ver cómo cambia la métrica de evaluación.\n",
    "\n",
    "*Evaluación del Baseline:*\n",
    "\n",
    "- Las predicciones fueron ajustadas mediante redondeo para facilitar la evaluación con la métrica de precisión. El modelo alcanzó una precisión inicial del 76%.\n"
   ]
  }
 ],
 "metadata": {
  "kernelspec": {
   "display_name": "zrive-ds1-Alvaro",
   "language": "python",
   "name": "python3"
  },
  "language_info": {
   "codemirror_mode": {
    "name": "ipython",
    "version": 3
   },
   "file_extension": ".py",
   "mimetype": "text/x-python",
   "name": "python",
   "nbconvert_exporter": "python",
   "pygments_lexer": "ipython3",
   "version": "3.11.0"
  }
 },
 "nbformat": 4,
 "nbformat_minor": 2
}
