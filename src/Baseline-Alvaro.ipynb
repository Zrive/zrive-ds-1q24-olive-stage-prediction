{
 "cells": [
  {
   "cell_type": "markdown",
   "metadata": {},
   "source": [
    "# Baseline Komorebi"
   ]
  },
  {
   "cell_type": "code",
   "execution_count": 17,
   "metadata": {},
   "outputs": [],
   "source": [
    "import seaborn as sns\n",
    "import matplotlib.pyplot as plt\n",
    "import pandas as pd\n",
    "import numpy as np\n",
    "from sklearn.metrics import accuracy_score\n",
    "from sklearn.metrics import confusion_matrix, accuracy_score"
   ]
  },
  {
   "cell_type": "code",
   "execution_count": 18,
   "metadata": {},
   "outputs": [],
   "source": [
    "root_folder = \"/Users/alvaroleal/Desktop/DS/komorebi\"\n",
    "\n",
    "df = pd.read_parquet(root_folder + '/muestreos_parcelas.parquet')"
   ]
  },
  {
   "cell_type": "markdown",
   "metadata": {},
   "source": [
    "### Limpiamos los datos con los resultados del EDAs"
   ]
  },
  {
   "cell_type": "code",
   "execution_count": 19,
   "metadata": {},
   "outputs": [],
   "source": [
    "def clean_df(df):\n",
    "    \"\"\"\n",
    "    Función para realizar todo el lipiado de datos, en este momento elimina las filas del DataFrame donde el año es 2005, 2021 o 2022.\n",
    "\n",
    "    Args:\n",
    "    df (pd.DataFrame): DataFrame original.\n",
    "\n",
    "    Returns:\n",
    "    pd.DataFrame: DataFrame limpiado.\n",
    "    \"\"\"\n",
    "    # Añadimos los resultados del EDAs\n",
    "    df = df.drop('generated_muestreos', axis=1)  \n",
    "    cols = ['fecha'] + [col for col in df.columns if col != 'fecha']\n",
    "    df = df[cols]\n",
    "    df['fecha'] = df['fecha'].astype('datetime64[ns]')\n",
    "    df = df[~df['fecha'].dt.year.isin([2003, 2005, 2021, 2022])]\n",
    "    \n",
    "    return df"
   ]
  },
  {
   "cell_type": "code",
   "execution_count": 20,
   "metadata": {},
   "outputs": [],
   "source": [
    "df = clean_df(df)"
   ]
  },
  {
   "cell_type": "markdown",
   "metadata": {},
   "source": [
    "## Baseline calculation: \n",
    "- Simplificamos nuestro dataset reduciéndolo a tres columnas.\n",
    "- Calculamos los estados fenológicos que ha avanzado cada instancia de cada parcela por año, ajustamos los avances negativos debido a errores en el muestreo y añadimos NaN a las primera y última instancia de cada parcela en cada año para no incluir informaciones de distintas cosechas.\n",
    "- Calculamos la media para cada estado cada año ponderando más los años más recientes y creamos nuestro target."
   ]
  },
  {
   "cell_type": "code",
   "execution_count": 21,
   "metadata": {},
   "outputs": [],
   "source": [
    "columnas_estados = [f'estado_fenologico_{i}' for i in range(14, 0, -1)]\n",
    "\n",
    "df['estado_fenologico_unificado'] = df.apply(lambda row: next((col.split('_')[-1] for col in columnas_estados if row[col] == 2), pd.NA), axis=1)\n",
    "df['estado_fenologico_unificado'] = pd.to_numeric(df['estado_fenologico_unificado'])\n",
    "\n",
    "df = df[['codparcela','fecha','estado_fenologico_unificado']]"
   ]
  },
  {
   "cell_type": "code",
   "execution_count": 22,
   "metadata": {},
   "outputs": [
    {
     "data": {
      "text/html": [
       "<div>\n",
       "<style scoped>\n",
       "    .dataframe tbody tr th:only-of-type {\n",
       "        vertical-align: middle;\n",
       "    }\n",
       "\n",
       "    .dataframe tbody tr th {\n",
       "        vertical-align: top;\n",
       "    }\n",
       "\n",
       "    .dataframe thead th {\n",
       "        text-align: right;\n",
       "    }\n",
       "</style>\n",
       "<table border=\"1\" class=\"dataframe\">\n",
       "  <thead>\n",
       "    <tr style=\"text-align: right;\">\n",
       "      <th></th>\n",
       "      <th>codparcela</th>\n",
       "      <th>fecha</th>\n",
       "      <th>estado_fenologico_unificado</th>\n",
       "      <th>year</th>\n",
       "      <th>y</th>\n",
       "    </tr>\n",
       "  </thead>\n",
       "  <tbody>\n",
       "    <tr>\n",
       "      <th>3960</th>\n",
       "      <td>000-00000-00</td>\n",
       "      <td>2015-08-25</td>\n",
       "      <td>10.0</td>\n",
       "      <td>2015</td>\n",
       "      <td>NaN</td>\n",
       "    </tr>\n",
       "    <tr>\n",
       "      <th>3961</th>\n",
       "      <td>000-00000-00</td>\n",
       "      <td>2015-09-30</td>\n",
       "      <td>11.0</td>\n",
       "      <td>2015</td>\n",
       "      <td>NaN</td>\n",
       "    </tr>\n",
       "    <tr>\n",
       "      <th>16815</th>\n",
       "      <td>000-00000-00-0</td>\n",
       "      <td>2015-08-24</td>\n",
       "      <td>10.0</td>\n",
       "      <td>2015</td>\n",
       "      <td>NaN</td>\n",
       "    </tr>\n",
       "    <tr>\n",
       "      <th>7323</th>\n",
       "      <td>000-00000-00-0</td>\n",
       "      <td>2015-08-26</td>\n",
       "      <td>10.0</td>\n",
       "      <td>2015</td>\n",
       "      <td>1.0</td>\n",
       "    </tr>\n",
       "    <tr>\n",
       "      <th>16816</th>\n",
       "      <td>000-00000-00-0</td>\n",
       "      <td>2015-09-28</td>\n",
       "      <td>11.0</td>\n",
       "      <td>2015</td>\n",
       "      <td>0.0</td>\n",
       "    </tr>\n",
       "    <tr>\n",
       "      <th>7324</th>\n",
       "      <td>000-00000-00-0</td>\n",
       "      <td>2015-09-29</td>\n",
       "      <td>11.0</td>\n",
       "      <td>2015</td>\n",
       "      <td>NaN</td>\n",
       "    </tr>\n",
       "    <tr>\n",
       "      <th>131747</th>\n",
       "      <td>000-00900-00-U0</td>\n",
       "      <td>2006-04-24</td>\n",
       "      <td>2.0</td>\n",
       "      <td>2006</td>\n",
       "      <td>NaN</td>\n",
       "    </tr>\n",
       "    <tr>\n",
       "      <th>131748</th>\n",
       "      <td>000-00900-00-U0</td>\n",
       "      <td>2006-05-03</td>\n",
       "      <td>2.0</td>\n",
       "      <td>2006</td>\n",
       "      <td>1.0</td>\n",
       "    </tr>\n",
       "    <tr>\n",
       "      <th>131749</th>\n",
       "      <td>000-00900-00-U0</td>\n",
       "      <td>2006-05-08</td>\n",
       "      <td>3.0</td>\n",
       "      <td>2006</td>\n",
       "      <td>1.0</td>\n",
       "    </tr>\n",
       "    <tr>\n",
       "      <th>131750</th>\n",
       "      <td>000-00900-00-U0</td>\n",
       "      <td>2006-05-16</td>\n",
       "      <td>4.0</td>\n",
       "      <td>2006</td>\n",
       "      <td>3.0</td>\n",
       "    </tr>\n",
       "    <tr>\n",
       "      <th>131751</th>\n",
       "      <td>000-00900-00-U0</td>\n",
       "      <td>2006-05-23</td>\n",
       "      <td>7.0</td>\n",
       "      <td>2006</td>\n",
       "      <td>0.0</td>\n",
       "    </tr>\n",
       "    <tr>\n",
       "      <th>131752</th>\n",
       "      <td>000-00900-00-U0</td>\n",
       "      <td>2006-05-29</td>\n",
       "      <td>7.0</td>\n",
       "      <td>2006</td>\n",
       "      <td>0.0</td>\n",
       "    </tr>\n",
       "  </tbody>\n",
       "</table>\n",
       "</div>"
      ],
      "text/plain": [
       "             codparcela      fecha  estado_fenologico_unificado  year    y\n",
       "3960       000-00000-00 2015-08-25                         10.0  2015  NaN\n",
       "3961       000-00000-00 2015-09-30                         11.0  2015  NaN\n",
       "16815    000-00000-00-0 2015-08-24                         10.0  2015  NaN\n",
       "7323     000-00000-00-0 2015-08-26                         10.0  2015  1.0\n",
       "16816    000-00000-00-0 2015-09-28                         11.0  2015  0.0\n",
       "7324     000-00000-00-0 2015-09-29                         11.0  2015  NaN\n",
       "131747  000-00900-00-U0 2006-04-24                          2.0  2006  NaN\n",
       "131748  000-00900-00-U0 2006-05-03                          2.0  2006  1.0\n",
       "131749  000-00900-00-U0 2006-05-08                          3.0  2006  1.0\n",
       "131750  000-00900-00-U0 2006-05-16                          4.0  2006  3.0\n",
       "131751  000-00900-00-U0 2006-05-23                          7.0  2006  0.0\n",
       "131752  000-00900-00-U0 2006-05-29                          7.0  2006  0.0"
      ]
     },
     "execution_count": 22,
     "metadata": {},
     "output_type": "execute_result"
    }
   ],
   "source": [
    "df = df.copy()\n",
    "df.reset_index(drop=True, inplace=True)\n",
    "df.sort_values(by=['codparcela', 'fecha'], inplace=True)\n",
    "df['year'] = df['fecha'].dt.year\n",
    "\n",
    "# Ajustamos estados fenológicos regresivos para evitar 'y' negativas\n",
    "for i in range(len(df) - 1): \n",
    "    if df.at[i, 'codparcela'] == df.at[i + 1, 'codparcela'] and df.at[i, 'year'] == df.at[i + 1, 'year']:\n",
    "        if df.at[i + 1, 'estado_fenologico_unificado'] < df.at[i, 'estado_fenologico_unificado']:\n",
    "            df.at[i + 1, 'estado_fenologico_unificado'] = df.at[i, 'estado_fenologico_unificado']\n",
    "\n",
    "# Calculamos la diferencia entre el estado fenológico siguiente y el actual\n",
    "df['y'] = df.groupby(['codparcela', 'year'], observed=True)['estado_fenologico_unificado'].shift(-1) - df['estado_fenologico_unificado']\n",
    "\n",
    "# Establecemos NaN en la primera y última entrada de cada grupo para evitar data leakage entre distintas cosechas\n",
    "first_last_mask = (df['fecha'] == df.groupby(['codparcela', 'year'], observed=True)['fecha'].transform('first')) | \\\n",
    "                  (df['fecha'] == df.groupby(['codparcela', 'year'], observed=True)['fecha'].transform('last'))\n",
    "df.loc[first_last_mask, 'y'] = np.nan\n",
    "\n",
    "df.head(12)"
   ]
  },
  {
   "cell_type": "markdown",
   "metadata": {},
   "source": [
    "## Baseline predict:\n",
    "- Train/Test Split: Dividimos nuestro dataset por cosechas utilizando 2018 como el punto de inversión.\n",
    "- Calculamos la media ponderada agrupando por año y estado fenológico, convertimos ese dataframe a un diccionario el cual luego usamos para mapear el conjunto de test y realizar las predicciones.\n",
    "- Redondeamos nuestras predicciones para poder evaluar el modelo.\n",
    "- Utilizamos accuracy como métrica de evaluación del modelo obteniendo un 76% de aciertos."
   ]
  },
  {
   "cell_type": "code",
   "execution_count": 23,
   "metadata": {},
   "outputs": [],
   "source": [
    "# Dividimos nuestras muestras por años\n",
    "train = df[df['year'] <= 2018].copy()\n",
    "test = df[df['year'] > 2018].copy()"
   ]
  },
  {
   "cell_type": "code",
   "execution_count": 24,
   "metadata": {},
   "outputs": [],
   "source": [
    "max_year = train['year'].max()\n",
    "train['weight'] = train['year'].apply(lambda x: 0.1 ** (max_year - x))\n",
    "\n",
    "# Agrupamos por estado fenológico y año, y calcular la media ponderada\n",
    "grouped = train.groupby(['estado_fenologico_unificado', 'year'])\n",
    "weighted_means = grouped.apply(lambda x: (x['y'] * x['weight']).sum() / x['weight'].sum()).reset_index()\n",
    "weighted_means.rename(columns={0: 'weighted_mean'}, inplace=True)\n",
    "\n",
    "# Convertimos este DataFrame en un diccionario donde la clave es el estado y el valor es la media ponderada más reciente\n",
    "mapeo_referencia = weighted_means.sort_values('year', ascending=False).drop_duplicates('estado_fenologico_unificado').set_index('estado_fenologico_unificado')['weighted_mean'].to_dict()\n",
    "\n",
    "# Aplicamos el mapeo de referencia al conjunto de test para obtener las predicciones\n",
    "test['y_pred'] = test['estado_fenologico_unificado'].map(mapeo_referencia)\n",
    "\n",
    "# Redondeamos las predicciones ya que la métrica de precisión requiere valores discretos\n",
    "test['y_pred_rounded'] = test['y_pred'].round()"
   ]
  },
  {
   "cell_type": "code",
   "execution_count": 25,
   "metadata": {},
   "outputs": [
    {
     "name": "stdout",
     "output_type": "stream",
     "text": [
      "Baseline Model Accuracy: 0.7579984393289114\n"
     ]
    }
   ],
   "source": [
    "# Eliminamos filas con NaN en 'y' antes de calcular la precisión.\n",
    "mask = test['y'].notna()\n",
    "test_filtered = test[mask]\n",
    "\n",
    "# Ahora, calculamos la precisión solo en las filas sin NaN.\n",
    "accuracy = accuracy_score(test_filtered['y'], test_filtered['y_pred_rounded'])\n",
    "print(f\"Baseline Model Accuracy: {accuracy}\")"
   ]
  },
  {
   "cell_type": "code",
   "execution_count": 26,
   "metadata": {},
   "outputs": [
    {
     "data": {
      "image/png": "[encoded data removed]",
      "text/plain": [
       "<Figure size 1000x500 with 1 Axes>"
      ]
     },
     "metadata": {},
     "output_type": "display_data"
    }
   ],
   "source": [
    "cm = confusion_matrix(test_filtered['y'], test_filtered['y_pred_rounded'])\n",
    "\n",
    "accuracy = accuracy_score(test_filtered['y'], test_filtered['y_pred_rounded'])\n",
    "\n",
    "plt.figure(figsize=(10, 5))  \n",
    "sns.heatmap(cm, annot=True, fmt='d', cmap='Blues', cbar=False, xticklabels=True, yticklabels=True) \n",
    "\n",
    "plt.title(f'Matriz de Confusión - Precisión: {accuracy:.2f}')\n",
    "plt.xlabel('Predicciones')\n",
    "plt.ylabel('Valores Reales')\n",
    "\n",
    "unique_classes = sorted(test_filtered['y'].unique())\n",
    "plt.xticks(ticks=range(len(unique_classes)), labels=unique_classes, rotation=45) \n",
    "plt.yticks(ticks=range(len(unique_classes)), labels=unique_classes, rotation=0)\n",
    "\n",
    "plt.show()"
   ]
  },
  {
   "cell_type": "markdown",
   "metadata": {},
   "source": [
    "## Conclusiones:\n",
    "\n",
    "Acercamiento muy sencillo a lo que podría suponer un punto de partida para tratar de hacer modelos más complejos, cual feedback es bienvenido :)\n",
    "\n",
    "*Cálculo del Baseline:*\n",
    "\n",
    "- Calculamos un modelo muy sencillo definiendo el target como elnúmero de estados fenológicos que había pasado una muestra con respecto a su instancia anterior. Se corrigieron los avances fenológicos negativos resultantes de errores en el muestreo y se excluyeron las instancias iniciales y finales de cada año para evitar inconsistencias entre diferentes cosechas.\n",
    "\n",
    "*Predicción del Baseline:*\n",
    "\n",
    "- Implementamos una división del dataset por cosechas, utilizando el año 2018 como punto de corte. Esto permitió que las fases de prueba y entrenamiento reflejen las condiciones más actuales sin mezclar datos de cosechas anteriores.\n",
    "Se empleó una media ponderada para cada combinación de año y estado fenológico, convirtiendo luego este dataframe en un diccionario que fue utilizado para mapear y realizar predicciones en el conjunto de test. Nota: Podemos probar con otros criterios estadísticos con la mediana para ver cómo cambia la métrica de evaluación.\n",
    "\n",
    "*Evaluación del Baseline:*\n",
    "\n",
    "- Las predicciones fueron ajustadas mediante redondeo para facilitar la evaluación con la métrica de precisión. El modelo alcanzó una precisión inicial del 76%.\n"
   ]
  }
 ],
 "metadata": {
  "kernelspec": {
   "display_name": "zrive-ds1-Alvaro",
   "language": "python",
   "name": "python3"
  },
  "language_info": {
   "codemirror_mode": {
    "name": "ipython",
    "version": 3
   },
   "file_extension": ".py",
   "mimetype": "text/x-python",
   "name": "python",
   "nbconvert_exporter": "python",
   "pygments_lexer": "ipython3",
   "version": "3.11.0"
  }
 },
 "nbformat": 4,
 "nbformat_minor": 2
}
